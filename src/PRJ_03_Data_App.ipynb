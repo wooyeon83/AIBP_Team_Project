{
 "cells": [
  {
   "cell_type": "markdown",
   "metadata": {},
   "source": [
    "# 03. 대시보드 구현하기\n",
    "\n",
    "### 3.1 공통 모듈 불러오기 및 설정"
   ]
  },
  {
   "cell_type": "code",
   "execution_count": 44,
   "metadata": {},
   "outputs": [],
   "source": [
    "import pandas as pd\n",
    "import numpy as np\n",
    "import matplotlib.pyplot as plt\n",
    "import seaborn as sns\n",
    "from streamlit_option_menu import option_menu\n",
    "\n",
    "font = {'fontsize':18, 'fontstyle':'italic', 'backgroundcolor':'white', 'color':'black', 'fontweight': 'bold'} # for plot title\n",
    "sns.set_theme(style='whitegrid', font_scale=1.5)\n",
    "sns.set_palette('Set2', n_colors=10)\n",
    "plt.rc('font', family='AppleGothic')\n",
    "plt.rc('axes', unicode_minus=False)\n",
    "\n",
    "import streamlit as st\n",
    "from datetime import date"
   ]
  },
  {
   "cell_type": "markdown",
   "metadata": {},
   "source": [
    "### 3.2 분석할 데이터 읽어오기"
   ]
  },
  {
   "cell_type": "code",
   "execution_count": 45,
   "metadata": {},
   "outputs": [
    {
     "data": {
      "text/html": [
       "<div>\n",
       "<style scoped>\n",
       "    .dataframe tbody tr th:only-of-type {\n",
       "        vertical-align: middle;\n",
       "    }\n",
       "\n",
       "    .dataframe tbody tr th {\n",
       "        vertical-align: top;\n",
       "    }\n",
       "\n",
       "    .dataframe thead th {\n",
       "        text-align: right;\n",
       "    }\n",
       "</style>\n",
       "<table border=\"1\" class=\"dataframe\">\n",
       "  <thead>\n",
       "    <tr style=\"text-align: right;\">\n",
       "      <th></th>\n",
       "      <th>학년도</th>\n",
       "      <th>시도별</th>\n",
       "      <th>학교급</th>\n",
       "      <th>학년</th>\n",
       "      <th>성별</th>\n",
       "      <th>생년월일</th>\n",
       "      <th>키_cm</th>\n",
       "      <th>몸무게_kg</th>\n",
       "      <th>비만여부</th>\n",
       "      <th>건강검진일</th>\n",
       "      <th>...</th>\n",
       "      <th>가족지지</th>\n",
       "      <th>체벌경험</th>\n",
       "      <th>상담요청</th>\n",
       "      <th>가족흡연</th>\n",
       "      <th>가족음주</th>\n",
       "      <th>무기력감</th>\n",
       "      <th>수업태도교정</th>\n",
       "      <th>과잉행동</th>\n",
       "      <th>주의력산만</th>\n",
       "      <th>상담희망</th>\n",
       "    </tr>\n",
       "  </thead>\n",
       "  <tbody>\n",
       "    <tr>\n",
       "      <th>0</th>\n",
       "      <td>2016</td>\n",
       "      <td>서울</td>\n",
       "      <td>초</td>\n",
       "      <td>1</td>\n",
       "      <td>남</td>\n",
       "      <td>NaN</td>\n",
       "      <td>130.2</td>\n",
       "      <td>26.5</td>\n",
       "      <td>정상</td>\n",
       "      <td>NaN</td>\n",
       "      <td>...</td>\n",
       "      <td>1.0</td>\n",
       "      <td>2.0</td>\n",
       "      <td>2.0</td>\n",
       "      <td>2.0</td>\n",
       "      <td>2.0</td>\n",
       "      <td>2.0</td>\n",
       "      <td>2.0</td>\n",
       "      <td>2.0</td>\n",
       "      <td>2.0</td>\n",
       "      <td>NaN</td>\n",
       "    </tr>\n",
       "    <tr>\n",
       "      <th>1</th>\n",
       "      <td>2016</td>\n",
       "      <td>서울</td>\n",
       "      <td>초</td>\n",
       "      <td>1</td>\n",
       "      <td>남</td>\n",
       "      <td>NaN</td>\n",
       "      <td>123.1</td>\n",
       "      <td>27.7</td>\n",
       "      <td>과체중</td>\n",
       "      <td>NaN</td>\n",
       "      <td>...</td>\n",
       "      <td>1.0</td>\n",
       "      <td>2.0</td>\n",
       "      <td>2.0</td>\n",
       "      <td>2.0</td>\n",
       "      <td>2.0</td>\n",
       "      <td>2.0</td>\n",
       "      <td>2.0</td>\n",
       "      <td>2.0</td>\n",
       "      <td>2.0</td>\n",
       "      <td>NaN</td>\n",
       "    </tr>\n",
       "    <tr>\n",
       "      <th>2</th>\n",
       "      <td>2016</td>\n",
       "      <td>서울</td>\n",
       "      <td>초</td>\n",
       "      <td>1</td>\n",
       "      <td>남</td>\n",
       "      <td>NaN</td>\n",
       "      <td>117.2</td>\n",
       "      <td>19.1</td>\n",
       "      <td>정상</td>\n",
       "      <td>NaN</td>\n",
       "      <td>...</td>\n",
       "      <td>1.0</td>\n",
       "      <td>2.0</td>\n",
       "      <td>2.0</td>\n",
       "      <td>2.0</td>\n",
       "      <td>2.0</td>\n",
       "      <td>2.0</td>\n",
       "      <td>2.0</td>\n",
       "      <td>2.0</td>\n",
       "      <td>2.0</td>\n",
       "      <td>NaN</td>\n",
       "    </tr>\n",
       "    <tr>\n",
       "      <th>3</th>\n",
       "      <td>2016</td>\n",
       "      <td>서울</td>\n",
       "      <td>초</td>\n",
       "      <td>1</td>\n",
       "      <td>남</td>\n",
       "      <td>NaN</td>\n",
       "      <td>123.5</td>\n",
       "      <td>22.2</td>\n",
       "      <td>정상</td>\n",
       "      <td>NaN</td>\n",
       "      <td>...</td>\n",
       "      <td>1.0</td>\n",
       "      <td>2.0</td>\n",
       "      <td>2.0</td>\n",
       "      <td>2.0</td>\n",
       "      <td>2.0</td>\n",
       "      <td>2.0</td>\n",
       "      <td>2.0</td>\n",
       "      <td>2.0</td>\n",
       "      <td>2.0</td>\n",
       "      <td>NaN</td>\n",
       "    </tr>\n",
       "    <tr>\n",
       "      <th>4</th>\n",
       "      <td>2016</td>\n",
       "      <td>서울</td>\n",
       "      <td>초</td>\n",
       "      <td>1</td>\n",
       "      <td>남</td>\n",
       "      <td>NaN</td>\n",
       "      <td>123.5</td>\n",
       "      <td>22.2</td>\n",
       "      <td>정상</td>\n",
       "      <td>NaN</td>\n",
       "      <td>...</td>\n",
       "      <td>1.0</td>\n",
       "      <td>2.0</td>\n",
       "      <td>2.0</td>\n",
       "      <td>1.0</td>\n",
       "      <td>1.0</td>\n",
       "      <td>2.0</td>\n",
       "      <td>2.0</td>\n",
       "      <td>2.0</td>\n",
       "      <td>2.0</td>\n",
       "      <td>NaN</td>\n",
       "    </tr>\n",
       "  </tbody>\n",
       "</table>\n",
       "<p>5 rows × 86 columns</p>\n",
       "</div>"
      ],
      "text/plain": [
       "    학년도 시도별 학교급  학년 성별  생년월일   키_cm  몸무게_kg 비만여부  건강검진일  ... 가족지지  체벌경험  상담요청  \\\n",
       "0  2016  서울   초   1  남   NaN  130.2    26.5   정상    NaN  ...  1.0   2.0   2.0   \n",
       "1  2016  서울   초   1  남   NaN  123.1    27.7  과체중    NaN  ...  1.0   2.0   2.0   \n",
       "2  2016  서울   초   1  남   NaN  117.2    19.1   정상    NaN  ...  1.0   2.0   2.0   \n",
       "3  2016  서울   초   1  남   NaN  123.5    22.2   정상    NaN  ...  1.0   2.0   2.0   \n",
       "4  2016  서울   초   1  남   NaN  123.5    22.2   정상    NaN  ...  1.0   2.0   2.0   \n",
       "\n",
       "   가족흡연  가족음주 무기력감 수업태도교정 과잉행동 주의력산만 상담희망  \n",
       "0   2.0   2.0  2.0    2.0  2.0   2.0  NaN  \n",
       "1   2.0   2.0  2.0    2.0  2.0   2.0  NaN  \n",
       "2   2.0   2.0  2.0    2.0  2.0   2.0  NaN  \n",
       "3   2.0   2.0  2.0    2.0  2.0   2.0  NaN  \n",
       "4   1.0   1.0  2.0    2.0  2.0   2.0  NaN  \n",
       "\n",
       "[5 rows x 86 columns]"
      ]
     },
     "execution_count": 45,
     "metadata": {},
     "output_type": "execute_result"
    }
   ],
   "source": [
    "df = pd.read_csv(fr'../data/input/data.csv', encoding='utf-8', low_memory=False)\n",
    "df.head()"
   ]
  },
  {
   "cell_type": "markdown",
   "metadata": {},
   "source": [
    "### 3.3 웹페이지 타이틀 설정하기"
   ]
  },
  {
   "cell_type": "code",
   "execution_count": 46,
   "metadata": {},
   "outputs": [
    {
     "data": {
      "text/plain": [
       "DeltaGenerator()"
      ]
     },
     "execution_count": 46,
     "metadata": {},
     "output_type": "execute_result"
    }
   ],
   "source": [
    "st.set_page_config(page_title='Elementary Student Growth Analysis Dashboard', \n",
    "                   page_icon='👩‍👩‍👧‍👧', layout='wide')\n",
    "st.title(\"초등학생 성장발달 분석\")\n",
    "\n",
    "title_with_image_html = '''\n",
    "<div style=\"display: flex; align-items: center;\">\n",
    "    <img src=\"https://via.placeholder.com/40\" style=\"margin-right: 20px;\">\n",
    "    <h1>My Streamlit App</h1>\n",
    "</div>\n",
    "'''\n",
    "\n",
    "# Markdown을 사용하여 HTML 렌더링\n",
    "st.markdown(title_with_image_html, unsafe_allow_html=True)"
   ]
  },
  {
   "cell_type": "markdown",
   "metadata": {},
   "source": [
    "### 3.4 새로고침 버튼 추가"
   ]
  },
  {
   "cell_type": "code",
   "execution_count": 47,
   "metadata": {},
   "outputs": [],
   "source": [
    "if st.button('새로고침'):\n",
    "    st.experimental_rerun()"
   ]
  },
  {
   "cell_type": "markdown",
   "metadata": {},
   "source": [
    "#### 3.5 사이드바 꾸미기\n",
    "* https://icons.getbootstrap.com/ 에 아이콘 선택\n",
    "* pip install streamlit-option-menu 설치 필요"
   ]
  },
  {
   "cell_type": "code",
   "execution_count": 48,
   "metadata": {},
   "outputs": [],
   "source": [
    "st.sidebar.header(\"날짜 조건\")\n",
    "# 현재 연도 가져오기\n",
    "first_year = 2015\n",
    "last_year = 2022\n",
    "col1, col2 = st.sidebar.columns(2)\n",
    "with col1:\n",
    "    start_year = st.selectbox(\"시작 연도\", list(range(first_year, last_year)), index=0)\n",
    "with col2:\n",
    "    end_year = st.selectbox(\"종료 연도\", list(range(first_year+1, last_year+1)), index=last_year-first_year-1)\n",
    "\n",
    "# 종료 연도가 시작 연도보다 이전일 경우 오류 메시지 표시\n",
    "if start_year > end_year:\n",
    "    st.error(\"오류: 종료 연도는 시작 연도 이후여야 합니다.\")\n",
    "\n",
    "df = df[(df['학년도'] >= start_year) & (df['학년도'] <= end_year)]\n"
   ]
  },
  {
   "cell_type": "code",
   "execution_count": 49,
   "metadata": {},
   "outputs": [],
   "source": [
    "def first_page_draw():\n",
    "    st.header('0. 데이터 소개')\n",
    "    st.write('* 교육부_학생건강검사 표본조사')\n",
    "    st.write('* 체계적이고 신뢰성 있는 학생건강지표를 생성하고자 표본학교를 대상으로 분석된 통계데이터입니다. 생성된 통계는 ‘통계법』제17조에 근거한 정부 지정통계(승인번호 112002호)입니다.')\n",
    "    # 아이콘과 링크를 HTML로 생성\n",
    "    link_icon_html = '''* 출처 : 공공데이터포털\n",
    "    <a href=\"https://www.data.go.kr/data/15100360/fileData.do\" target=\"_blank\">\n",
    "        <img src=\"data:image/png;base64,iVBORw0KGgoAAAANSUhEUgAAABwAAAAcCAMAAABF0y+mAAAANlBMVEUAXqoAXqoAWKgAVKZSjcKyyeHD0uWMstZ0oczt9Pn////1+PvV5PFrnMqYvt0ATaQwd7cAXqp66WfTAAAAEnRSTlOS/////////////////////6e+bY7iAAAAo0lEQVR4AaXSRQKDQAxA0UbG/f6XbfBQl7+Dh4xdLvA0ZQ96i0inUCOysUfGMaBCH6Iqhcx0hypHGm3xc8XVnEQNKqwN1wg5x5gcKiTYoy6aOz5EwD799gkCWfkrPEa5M3/3CbIg/4QuRtvhCebnAyIZT/D4CFGu56/u6NoWsBELjAcmVZTEDjwX4NiykoMue0DYsRcV94l2FNbB0R/ndjy3cQWaWwzHLpuneAAAAABJRU5ErkJggg==\" alt=\"link icon\"/>\n",
    "    </a>\n",
    "    '''\n",
    "    st.write('* 제공기관 : 교육부')  \n",
    "    st.markdown(link_icon_html, unsafe_allow_html=True)\n",
    "\n",
    "    col1, col2, col3, col4, col5 = st.columns(5)\n",
    "    col1.metric(label = \"총 데이터 건수\", value = f'총 {df.shape[0]} 건')\n",
    "    col2.metric(label = \"총 컬럼수\", value = f'총 {len(df.columns)}개')\n",
    "    col3.metric(label = \"데이터 범위\", value = f'{df['학년도'].min()}년~{df['학년도'].max()}년')\n",
    "    col4.metric(label = \"데이터 대상\", value = f'초등학생 {df['학년'].min()}학년~{df['학년'].max()}학년')\n",
    "    col5.metric(label = \"대상 시도\", value = f'총 {len(df['시도별'].unique())}개')\n",
    "\n",
    "    st.header('2. 데이터 컬럼 정보')\n",
    "\n",
    "    file_path = '../data/input/column_info.txt'\n",
    "    with open(file_path, 'r') as file:\n",
    "        file_contents = file.read()\n",
    "\n",
    "    st.markdown(file_contents)"
   ]
  },
  {
   "cell_type": "code",
   "execution_count": 50,
   "metadata": {},
   "outputs": [],
   "source": [
    "grade_arr = np.append('전체', df['학년'].unique().astype(str))\n",
    "grade_frame = col1.selectbox(\"학년\", grade_arr)"
   ]
  },
  {
   "cell_type": "code",
   "execution_count": 51,
   "metadata": {},
   "outputs": [],
   "source": [
    "def second_page_draw():\n",
    "    st.header('1. 키 성장 변화')\n",
    "    grade_frame = st.selectbox(\"학년\", grade_arr)\n",
    "    df1 = df.groupby(['학년도', '학년']).agg({'키_cm' : 'mean'}).sort_values(['학년도', '학년']).reset_index()\n",
    "    df1.head()  \n",
    "    years = [ i  for i in np.arange(start_year, end_year+1) ]\n",
    "    if start_year <= 2020 and end_year >= 2020:\n",
    "        years.remove(2020)\n",
    "\n",
    "    heights_by_grade = {\n",
    "        '1학년': df1[df1['학년'] == 1]['키_cm'].to_list(),\n",
    "        '2학년': df1[df1['학년'] == 2]['키_cm'].to_list(),\n",
    "        '3학년': df1[df1['학년'] == 3]['키_cm'].to_list(),\n",
    "        '4학년': df1[df1['학년'] == 4]['키_cm'].to_list(),\n",
    "        '5학년': df1[df1['학년'] == 5]['키_cm'].to_list(),\n",
    "        '6학년': df1[df1['학년'] == 6]['키_cm'].to_list(),\n",
    "    }\n",
    "\n",
    "    # 다중 라인 그래프 그리기\n",
    "    fig = plt.figure(figsize=(6,5))\n",
    "\n",
    "    for grade, heights in heights_by_grade.items():\n",
    "        plt.plot(years, heights, label=grade)\n",
    "\n",
    "    plt.title('학년별 평균 키 변화추이', fontdict=font, pad=15)\n",
    "    plt.xlabel('Year')\n",
    "    plt.ylabel('평균 키 (cm)')\n",
    "    plt.legend(loc='upper left', bbox_to_anchor=(1, 1))\n",
    "    plt.grid(True)\n",
    "    plt.xticks(years)\n",
    "    plt.show()\n",
    "    st.pyplot(fig)"
   ]
  },
  {
   "cell_type": "code",
   "execution_count": 60,
   "metadata": {},
   "outputs": [
    {
     "name": "stdout",
     "output_type": "stream",
     "text": [
      "[46.88127171646977, 48.18288318703579, 48.13710826210826, 49.22391239123912, 48.820111567821485, 52.1498912833178, 50.966986089644514]\n",
      "[45.47925591882751, 45.71069679849341, 46.28402255639098, 45.96733716475096, 46.13581995593327, 47.78665571639344, 47.567972575905976]\n"
     ]
    },
    {
     "data": {
      "image/png": "[encoded data removed]",
      "text/plain": [
       "<Figure size 1000x300 with 2 Axes>"
      ]
     },
     "metadata": {},
     "output_type": "display_data"
    }
   ],
   "source": [
    "fig, ax = plt.subplots(1,2,figsize=(10,3))\n",
    "grade_frame = '6'\n",
    "if grade_frame != '전체':\n",
    "        df2 = df[df['학년']==int(grade_frame)].groupby(['학년도', '성별']).agg({'몸무게_kg' : 'mean'}).sort_values(['학년도',  '성별']).reset_index()\n",
    "else :\n",
    "    df2 = df.groupby(['학년도', '성별']).agg({'몸무게_kg' : 'mean'}).sort_values(['학년도',  '성별']).reset_index()\n",
    "\n",
    "years = [ i  for i in np.arange(start_year, end_year+1) ]\n",
    "male_weights = df2[df2['성별'] == '남']['몸무게_kg'].to_list()\n",
    "female_weights = df2[df2['성별'] == '여']['몸무게_kg'].to_list()\n",
    "\n",
    "\n",
    "print(male_weights)\n",
    "print(female_weights)\n",
    "label_name = ''\n",
    "if grade_frame != '전체':\n",
    "    label_name = '('+grade_frame+'학년)'\n",
    "if start_year <= 2020 and end_year >= 2020:\n",
    "    years.remove(2020)\n",
    "ax[1].plot(years, male_weights, marker='o', label=f'남학생')\n",
    "ax[1].plot(years, female_weights, marker='o', label=f\"여학생\")\n",
    "\n",
    "ax[1].set_title('연간 성별 평균 몸무게 변화', fontdict=font, pad=40)\n",
    "ax[1].set_xlabel('연도')\n",
    "ax[1].set_ylabel('평균 몸무게 (kg)')\n",
    "ax[1].legend(loc='upper center', bbox_to_anchor=(0.5, 1.2), ncol=2)\n",
    "ax[1].grid(True)\n",
    "ax[1].set_xticks(years)  # x축 눈금을 연도로 설정\n",
    "fig.subplots_adjust(left=0.1, right=0.9, top=0.85, bottom=0.2, wspace=0.4)"
   ]
  },
  {
   "cell_type": "markdown",
   "metadata": {},
   "source": []
  },
  {
   "cell_type": "code",
   "execution_count": null,
   "metadata": {},
   "outputs": [],
   "source": [
    "with st.sidebar:\n",
    "    choice = option_menu(\"목록\", [\"데이터 소개\", \"신체발달\", \"건강지수\", \"생활습관\", \"사회환경요소\"],\n",
    "                         icons=['exclamation-square', 'bar-chart', 'bi bi-robot', 'clipboard-data', 'person-lines-fill'],\n",
    "                         menu_icon=\"app-indicator\", default_index=0,\n",
    "                         styles={\n",
    "                            \"container\": {\"padding\": \"4!important\", \"background-color\": \"#fafafa\"},\n",
    "                            \"icon\": {\"color\": \"black\", \"font-size\": \"25px\"},\n",
    "                            \"nav-link\": {\"font-size\": \"16px\", \"text-align\": \"left\", \"margin\":\"0px\", \"--hover-color\": \"#fafafa\"},\n",
    "                            \"nav-link-selected\": {\"background-color\": \"#08c7b4\"},\n",
    "                        }\n",
    "            )\n",
    "    \n",
    "\n",
    "if choice == \"데이터 소개\":\n",
    "    first_page_draw()\n",
    "elif choice == \"신체발달\":\n",
    "    second_page_draw()\n",
    "elif choice == \"건강지수\":\n",
    "    st.title(\"Contact Page\")\n",
    "    st.write(\"Get in touch with me.\")\n",
    "elif choice == \"생활습관\":\n",
    "    st.title(\"Contact Page\")\n",
    "    st.write(\"Get in touch with me.\")\n",
    "elif choice == \"사회환경요소\":\n",
    "    st.title(\"Contact Page\")\n",
    "    st.write(\"Get in touch with me.\")"
   ]
  },
  {
   "cell_type": "code",
   "execution_count": null,
   "metadata": {},
   "outputs": [],
   "source": []
  },
  {
   "cell_type": "code",
   "execution_count": null,
   "metadata": {},
   "outputs": [],
   "source": []
  }
 ],
 "metadata": {
  "kernelspec": {
   "display_name": "aibp",
   "language": "python",
   "name": "python3"
  },
  "language_info": {
   "codemirror_mode": {
    "name": "ipython",
    "version": 3
   },
   "file_extension": ".py",
   "mimetype": "text/x-python",
   "name": "python",
   "nbconvert_exporter": "python",
   "pygments_lexer": "ipython3",
   "version": "3.12.3"
  }
 },
 "nbformat": 4,
 "nbformat_minor": 2
}
